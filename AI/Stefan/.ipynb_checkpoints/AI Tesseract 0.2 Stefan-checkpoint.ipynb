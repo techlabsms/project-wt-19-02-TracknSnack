{
 "cells": [
  {
   "cell_type": "markdown",
   "metadata": {},
   "source": [
    "At first, we import the necessary libraries.\n",
    "**It is important that you adjust the path you have installed tesseract to accordingly!**"
   ]
  },
  {
   "cell_type": "code",
   "execution_count": 107,
   "metadata": {},
   "outputs": [],
   "source": [
    "import pytesseract\n",
    "from PIL import Image\n",
    "\n",
    "# Due to TesseractNotFoundError\n",
    "# https://stackoverflow.com/questions/50951955/pytesseract-tesseractnotfound-error-tesseract-is-not-installed-or-its-not-i\n",
    "pytesseract.pytesseract.tesseract_cmd = r'C:\\Program Files\\Tesseract-OCR\\tesseract.exe'"
   ]
  },
  {
   "cell_type": "markdown",
   "metadata": {},
   "source": [
    "Now comes the main method that takes a screenshot of ingredients as input and outputs a dictionary in the form of *{'product_name':['quantity','unit'], ...}*."
   ]
  },
  {
   "cell_type": "code",
   "execution_count": 132,
   "metadata": {},
   "outputs": [],
   "source": [
    "def createIngredientDict(image):\n",
    "    \"\"\"\n",
    "    Outputs a dictionary in the form of {'product_name':['quantity','unit'], ...}\n",
    "    Input: a screenshot of ingredients\n",
    "    \"\"\"\n",
    "    ingredientList = createIngredientList(image)\n",
    "    ingredientDict = {}\n",
    "    \n",
    "    for elem in ingredientList:\n",
    "        quantity = isolateQuantity(elem)\n",
    "        unit = isolateUnit(elem)\n",
    "        productName = isolateProductName(ingredient=elem, quantity=quantity, unit=unit)\n",
    "        ingredientDict[productName]=[quantity, unit]\n",
    "    \n",
    "    return ingredientDict"
   ]
  },
  {
   "cell_type": "markdown",
   "metadata": {},
   "source": [
    "This method converts the image to text and then seperates the text row by row into a list."
   ]
  },
  {
   "cell_type": "code",
   "execution_count": 144,
   "metadata": {},
   "outputs": [],
   "source": [
    "def createIngredientList(imagePath):\n",
    "    \"\"\"\n",
    "    Creates a list of ingredients from a screenshot\n",
    "    \"\"\"\n",
    "    image = Image.open(imagePath)\n",
    "    text = cleanUp(pytesseract.image_to_string(image)).lower()\n",
    "    print(text)\n",
    "    ingredients = text.splitlines()\n",
    "    if '' in ingredients:\n",
    "        ingredients.remove('')\n",
    "    return ingredients"
   ]
  },
  {
   "cell_type": "code",
   "execution_count": 110,
   "metadata": {},
   "outputs": [],
   "source": [
    "def cleanUp(text):\n",
    "    \"\"\"\n",
    "    Function to counter common Tesseract mistakes\n",
    "    \"\"\"\n",
    "    # Replacing '%' wit ',5' (e.g. in 1,5 Liter) fits most of the time\n",
    "    text = text.replace('%',',5 ')\n",
    "    text = text.replace('ii','ü')\n",
    "    return text\n"
   ]
  },
  {
   "cell_type": "markdown",
   "metadata": {},
   "source": [
    "The next three methods filter the quantity, unit and the product name from a row of ingredients."
   ]
  },
  {
   "cell_type": "code",
   "execution_count": 152,
   "metadata": {},
   "outputs": [],
   "source": [
    "def isolateQuantity(ingredient):\n",
    "    \"\"\"\n",
    "    Isolates the digits from the input String\n",
    "    \"\"\"\n",
    "    set = '0123456789'\n",
    "    if \"n.B.\" in ingredient:\n",
    "        return \"nach Belieben\"\n",
    "    text = ''.join([c for c in ingredient if c in set])\n",
    "    if text.strip() == \",5\":\n",
    "        return \"0,5\"\n",
    "    return text"
   ]
  },
  {
   "cell_type": "code",
   "execution_count": 142,
   "metadata": {},
   "outputs": [],
   "source": [
    "def isolateUnit(ingredient):\n",
    "    \"\"\"\n",
    "    Isolates the unit from the input String\n",
    "    \"\"\"\n",
    "    ingredient = ingredient.lower()\n",
    "    measurementUnitInt = ['gramm','g ', 'dekagramm', 'dag', 'kilogramm', 'kg ', 'pfd', 'pfund', 'deciliter', 'dl ', 'centiliter', 'cl ', 'ml ', 'liter',\n",
    "                       'esslöffel', 'el ', 'tl ', 'ssp.' 'tr', 'tropfen', 'sp', 'spritzer', 'schuss', 'messerspitze', 'msp', 'tasse', 'tas', 'scheibe', 'sc',\n",
    "                       'kleine', 'kleines' 'große', 'großes'\n",
    "                       'etwas', 'priese', 'priesen', 'priese(n)',\n",
    "                       'bund', 'bd ', 'dose', 'dosen', 'dose(n)', 'glas', 'gläser', 'packung', 'packungen', 'pck.', 'rolle', 'rollen', 'rolle(n)' 'würfel']\n",
    "    \n",
    "    measurementUnitUS = ['teaspoons','tablespoons','cups','containers','packets','bags','quarts','pounds','cans','bottles',\n",
    "                          'pints','packages','ounces','jars','heads','gallons','drops','envelopes','bars','boxes','pinches',\n",
    "                          'dashes','bunches','recipes','layers','slices','links','bulbs','stalks','squares','sprigs',\n",
    "                          'fillets','pieces','legs','thighs','cubes','granules','strips','trays','leaves','loaves','halves']\n",
    "    \n",
    "    for elem in measurementUnitInt :\n",
    "        if elem in ingredient:\n",
    "            return elem.rstrip()\n",
    "    \n",
    "    for elem in measurementUnitUS:\n",
    "        if elem in ingredient:\n",
    "            return elem\n",
    "        \n",
    "    return ''"
   ]
  },
  {
   "cell_type": "code",
   "execution_count": 113,
   "metadata": {},
   "outputs": [],
   "source": [
    "def isolateProductName(ingredient, quantity, unit):\n",
    "    \"\"\"\n",
    "    Stripping the quantity and unit from the ingredient, leaving the product name\n",
    "    \"\"\"\n",
    "    return ingredient.replace(str(quantity), '').replace(unit, '').strip()"
   ]
  },
  {
   "cell_type": "markdown",
   "metadata": {},
   "source": [
    "Lastly, there is the call of the main function."
   ]
  },
  {
   "cell_type": "code",
   "execution_count": 145,
   "metadata": {},
   "outputs": [
    {
     "name": "stdout",
     "output_type": "stream",
     "text": [
      "1. grore knoblauchzehe(n), klein gewirfelt\n",
      "olivenol\n",
      "pfeffer, schwarzer, frisch aus der mahle\n",
      "fleur de sel\n",
      "etwas milch zum bestreichen\n",
      "\n",
      "n.b. basilikum, gehacktes\n",
      "{'. grore knoblauchzehe(n), klein gewirfelt': ['1', ''], 'olivenol': ['', ''], 'pfeffer, hwarzer, frih aus der mahle': ['', 'sc'], 'fleur de sel': ['', ''], 'etwas milch zum bestreichen': ['', ''], 'n.b. basilikum, gehacktes': ['', '']}\n"
     ]
    }
   ],
   "source": [
    "InDict = createIngredientDict(image=\"testbild4.png\")\n",
    "print(InDict)"
   ]
  },
  {
   "cell_type": "code",
   "execution_count": 155,
   "metadata": {},
   "outputs": [
    {
     "name": "stdout",
     "output_type": "stream",
     "text": [
      "500 ml tomate(n), passierte\n",
      "3el butter\n",
      "\n",
      "2el mehl\n",
      "{'tomate(n), passierte': ['500', 'ml'], 'butter': ['3', 'el'], 'mehl': ['2', 'el']}\n"
     ]
    }
   ],
   "source": [
    "InDict = createIngredientDict(image=\"testbild1.png\")\n",
    "print(InDict)"
   ]
  },
  {
   "cell_type": "code",
   "execution_count": 156,
   "metadata": {},
   "outputs": [
    {
     "name": "stdout",
     "output_type": "stream",
     "text": [
      "1. grore knoblauchzehe(n), klein gewirfelt\n",
      "olivenol\n",
      "pfeffer, schwarzer, frisch aus der mahle\n",
      "fleur de sel\n",
      "etwas milch zum bestreichen\n",
      "\n",
      "n.b. basilikum, gehacktes\n",
      "{'. grore knoblauchzehe(n), klein gewirfelt': ['1', ''], 'olivenol': ['', ''], 'pfeffer, hwarzer, frih aus der mahle': ['', 'sc'], 'fleur de sel': ['', ''], 'etwas milch zum bestreichen': ['', ''], 'n.b. basilikum, gehacktes': ['', '']}\n"
     ]
    }
   ],
   "source": [
    "InDict = createIngredientDict(image=\"testbild4.png\")\n",
    "print(InDict)"
   ]
  },
  {
   "cell_type": "code",
   "execution_count": 157,
   "metadata": {},
   "outputs": [
    {
     "name": "stdout",
     "output_type": "stream",
     "text": [
      "1409\n",
      "\n",
      "6d\n",
      "\n",
      ",5  liter\n",
      "\n",
      "zucker\n",
      "vanilleschote(n)\n",
      "eigelb\n",
      "kurbiskernol\n",
      "\n",
      "schlagsahne\n",
      "{'': ['', ''], 'd': ['6', ''], ',': ['5', 'liter'], 'zucker': ['', ''], 'vanillehote(n)': ['', 'sc'], 'eigelb': ['', ''], 'kurbiskernol': ['', ''], 'hlagsahne': ['', 'sc']}\n"
     ]
    }
   ],
   "source": [
    "InDict = createIngredientDict(image=\"testbild5.png\")\n",
    "print(InDict)"
   ]
  },
  {
   "cell_type": "code",
   "execution_count": 153,
   "metadata": {},
   "outputs": [
    {
     "name": "stdout",
     "output_type": "stream",
     "text": [
      "1409\n",
      "\n",
      "6d\n",
      "\n",
      ",5  liter\n",
      "\n",
      "zucker\n",
      "vanilleschote(n)\n",
      "eigelb\n",
      "kurbiskernol\n",
      "\n",
      "schlagsahne\n"
     ]
    }
   ],
   "source": [
    "image = Image.open(\"testbild5.png\")\n",
    "text = cleanUp(pytesseract.image_to_string(image)).lower()\n",
    "print(text)"
   ]
  }
 ],
 "metadata": {
  "kernelspec": {
   "display_name": "Python 3",
   "language": "python",
   "name": "python3"
  },
  "language_info": {
   "codemirror_mode": {
    "name": "ipython",
    "version": 3
   },
   "file_extension": ".py",
   "mimetype": "text/x-python",
   "name": "python",
   "nbconvert_exporter": "python",
   "pygments_lexer": "ipython3",
   "version": "3.7.6"
  }
 },
 "nbformat": 4,
 "nbformat_minor": 4
}
